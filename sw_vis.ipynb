{
 "cells": [
  {
   "cell_type": "code",
   "execution_count": 10,
   "metadata": {},
   "outputs": [],
   "source": [
    "import matplotlib.pyplot as plt"
   ]
  },
  {
   "cell_type": "code",
   "execution_count": 97,
   "metadata": {},
   "outputs": [],
   "source": [
    "def draw_example(offset=0,cycle=False):\n",
    "    plt.xticks([])\n",
    "    plt.yticks([])\n",
    "    plt.axis('equal')\n",
    "    for i in range(0, 10):\n",
    "        plt.plot([i,i], [9,0], color='gray', linewidth=0.8)\n",
    "    for i in range(0, 10):\n",
    "        plt.plot([0,9], [i,i], color='gray', linewidth=0.8)\n",
    "    \n",
    "    if not cycle:\n",
    "        color='red'\n",
    "        for i in range(offset, 10, 3):\n",
    "            plt.plot([i,i], [9,0], color=color, linewidth=1.5)\n",
    "        for i in range(offset, 10, 3):\n",
    "            plt.plot([0,9], [9-i,9-i], color=color, linewidth=1.5)\n",
    "        if offset > 0:\n",
    "            plt.plot([0,0], [0,9], color=color, linewidth=1.5)\n",
    "            plt.plot([9,9], [0,9], color=color, linewidth=1.5)\n",
    "            plt.plot([0,9], [0,0], color=color, linewidth=1.5)\n",
    "            plt.plot([0,9], [9,9], color=color, linewidth=1.5)"
   ]
  },
  {
   "cell_type": "code",
   "execution_count": 98,
   "metadata": {},
   "outputs": [
    {
     "data": {
      "image/png": "[encoded data removed]",
      "text/plain": [
       "<Figure size 432x288 with 1 Axes>"
      ]
     },
     "metadata": {},
     "output_type": "display_data"
    }
   ],
   "source": [
    "draw_example(0)"
   ]
  },
  {
   "cell_type": "code",
   "execution_count": 99,
   "metadata": {},
   "outputs": [
    {
     "data": {
      "image/png": "[encoded data removed]",
      "text/plain": [
       "<Figure size 432x288 with 1 Axes>"
      ]
     },
     "metadata": {},
     "output_type": "display_data"
    }
   ],
   "source": [
    "draw_example(1)"
   ]
  },
  {
   "cell_type": "code",
   "execution_count": null,
   "metadata": {},
   "outputs": [],
   "source": []
  },
  {
   "cell_type": "code",
   "execution_count": null,
   "metadata": {},
   "outputs": [],
   "source": []
  }
 ],
 "metadata": {
  "kernelspec": {
   "display_name": "Python 3",
   "language": "python",
   "name": "python3"
  },
  "language_info": {
   "codemirror_mode": {
    "name": "ipython",
    "version": 3
   },
   "file_extension": ".py",
   "mimetype": "text/x-python",
   "name": "python",
   "nbconvert_exporter": "python",
   "pygments_lexer": "ipython3",
   "version": "3.7.3"
  }
 },
 "nbformat": 4,
 "nbformat_minor": 4
}
